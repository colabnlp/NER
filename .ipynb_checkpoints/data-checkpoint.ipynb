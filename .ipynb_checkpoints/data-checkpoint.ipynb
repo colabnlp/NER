{
 "cells": [
  {
   "cell_type": "code",
   "execution_count": 6,
   "metadata": {},
   "outputs": [],
   "source": [
    "import pandas as pd\n",
    "import numpy as np"
   ]
  },
  {
   "cell_type": "code",
   "execution_count": 43,
   "metadata": {},
   "outputs": [
    {
     "name": "stdout",
     "output_type": "stream",
     "text": [
      "Converted data.ipynb to exp/nb_data.py\r\n"
     ]
    }
   ],
   "source": [
    "!python notebook2script.py data.ipynb"
   ]
  },
  {
   "cell_type": "markdown",
   "metadata": {},
   "source": [
    "# Read Single File"
   ]
  },
  {
   "cell_type": "code",
   "execution_count": 10,
   "metadata": {
    "code_folding": []
   },
   "outputs": [],
   "source": [
    "#export\n",
    "def readfile(filename):\n",
    "    '''  read file to (sentence,tag) pairs '''\n",
    "    f = open(filename)\n",
    "    data, sentence, label = [], [], []\n",
    "    for line in f:\n",
    "        if len(line) == 0 or line.startswith('-DOCSTART') or line[0] == \"\\n\":\n",
    "            if len(sentence) > 0:\n",
    "                data.append((sentence, label))\n",
    "                sentence, label = [], []\n",
    "            continue\n",
    "        splits = line.split(' ')\n",
    "        sentence.append(splits[0])\n",
    "        label.append(splits[-1][:-1])\n",
    "\n",
    "    if len(sentence) > 0:\n",
    "        data.append((sentence, label))\n",
    "    return data"
   ]
  },
  {
   "cell_type": "code",
   "execution_count": 14,
   "metadata": {},
   "outputs": [
    {
     "data": {
      "text/plain": [
       "(['EU', 'rejects', 'German', 'call', 'to', 'boycott', 'British', 'lamb', '.'],\n",
       " ['B-ORG', 'O', 'B-MISC', 'O', 'O', 'O', 'B-MISC', 'O', 'O'])"
      ]
     },
     "execution_count": 14,
     "metadata": {},
     "output_type": "execute_result"
    }
   ],
   "source": [
    "data = readfile('NER_datasets/CONLL2003/train.txt')\n",
    "data[0]"
   ]
  },
  {
   "cell_type": "code",
   "execution_count": 3,
   "metadata": {},
   "outputs": [],
   "source": [
    "#export\n",
    "def readdf(filename):\n",
    "    ''' read file to dataframe '''\n",
    "    f = open(filename)\n",
    "    data, sentence, label = [], [], []\n",
    "    sentence_idx = 0\n",
    "    for line in f:\n",
    "        if len(line) == 0 or line.startswith('-DOCSTART') or line[0] == \"\\n\":\n",
    "            if len(sentence) > 0:\n",
    "                for word, tag in zip(sentence, label):\n",
    "                    data.append( (word, tag, sentence_idx) )\n",
    "                sentence_idx += 1\n",
    "                sentence, label = [], []\n",
    "            continue\n",
    "        splits = line.split(' ')\n",
    "        sentence.append(splits[0])\n",
    "        label.append(splits[-1][:-1])\n",
    "\n",
    "    if len(sentence) > 0:\n",
    "        data.append((sentence, label))\n",
    "    return pd.DataFrame(data, columns=['word', 'tag', 'sentence_idx'])"
   ]
  },
  {
   "cell_type": "code",
   "execution_count": 13,
   "metadata": {},
   "outputs": [
    {
     "data": {
      "text/html": [
       "<div>\n",
       "<style scoped>\n",
       "    .dataframe tbody tr th:only-of-type {\n",
       "        vertical-align: middle;\n",
       "    }\n",
       "\n",
       "    .dataframe tbody tr th {\n",
       "        vertical-align: top;\n",
       "    }\n",
       "\n",
       "    .dataframe thead th {\n",
       "        text-align: right;\n",
       "    }\n",
       "</style>\n",
       "<table border=\"1\" class=\"dataframe\">\n",
       "  <thead>\n",
       "    <tr style=\"text-align: right;\">\n",
       "      <th></th>\n",
       "      <th>word</th>\n",
       "      <th>tag</th>\n",
       "      <th>sentence_idx</th>\n",
       "    </tr>\n",
       "  </thead>\n",
       "  <tbody>\n",
       "    <tr>\n",
       "      <th>0</th>\n",
       "      <td>EU</td>\n",
       "      <td>B-ORG</td>\n",
       "      <td>0.0</td>\n",
       "    </tr>\n",
       "    <tr>\n",
       "      <th>1</th>\n",
       "      <td>rejects</td>\n",
       "      <td>O</td>\n",
       "      <td>0.0</td>\n",
       "    </tr>\n",
       "    <tr>\n",
       "      <th>2</th>\n",
       "      <td>German</td>\n",
       "      <td>B-MISC</td>\n",
       "      <td>0.0</td>\n",
       "    </tr>\n",
       "    <tr>\n",
       "      <th>3</th>\n",
       "      <td>call</td>\n",
       "      <td>O</td>\n",
       "      <td>0.0</td>\n",
       "    </tr>\n",
       "    <tr>\n",
       "      <th>4</th>\n",
       "      <td>to</td>\n",
       "      <td>O</td>\n",
       "      <td>0.0</td>\n",
       "    </tr>\n",
       "    <tr>\n",
       "      <th>...</th>\n",
       "      <td>...</td>\n",
       "      <td>...</td>\n",
       "      <td>...</td>\n",
       "    </tr>\n",
       "    <tr>\n",
       "      <th>203613</th>\n",
       "      <td>Preston</td>\n",
       "      <td>B-ORG</td>\n",
       "      <td>14038.0</td>\n",
       "    </tr>\n",
       "    <tr>\n",
       "      <th>203614</th>\n",
       "      <td>1</td>\n",
       "      <td>O</td>\n",
       "      <td>14038.0</td>\n",
       "    </tr>\n",
       "    <tr>\n",
       "      <th>203615</th>\n",
       "      <td>Division</td>\n",
       "      <td>O</td>\n",
       "      <td>14039.0</td>\n",
       "    </tr>\n",
       "    <tr>\n",
       "      <th>203616</th>\n",
       "      <td>three</td>\n",
       "      <td>O</td>\n",
       "      <td>14039.0</td>\n",
       "    </tr>\n",
       "    <tr>\n",
       "      <th>203617</th>\n",
       "      <td>[Swansea, 1, Lincoln, 2]</td>\n",
       "      <td>[B-ORG, O, B-ORG, ]</td>\n",
       "      <td>NaN</td>\n",
       "    </tr>\n",
       "  </tbody>\n",
       "</table>\n",
       "<p>203618 rows × 3 columns</p>\n",
       "</div>"
      ],
      "text/plain": [
       "                            word                  tag  sentence_idx\n",
       "0                             EU                B-ORG           0.0\n",
       "1                        rejects                    O           0.0\n",
       "2                         German               B-MISC           0.0\n",
       "3                           call                    O           0.0\n",
       "4                             to                    O           0.0\n",
       "...                          ...                  ...           ...\n",
       "203613                   Preston                B-ORG       14038.0\n",
       "203614                         1                    O       14038.0\n",
       "203615                  Division                    O       14039.0\n",
       "203616                     three                    O       14039.0\n",
       "203617  [Swansea, 1, Lincoln, 2]  [B-ORG, O, B-ORG, ]           NaN\n",
       "\n",
       "[203618 rows x 3 columns]"
      ]
     },
     "execution_count": 13,
     "metadata": {},
     "output_type": "execute_result"
    }
   ],
   "source": [
    "data = readdf('NER_datasets/CONLL2003/train.txt')\n",
    "data"
   ]
  },
  {
   "cell_type": "code",
   "execution_count": 38,
   "metadata": {},
   "outputs": [],
   "source": [
    "#export\n",
    "def readdfsentences(filename):\n",
    "    df = readdf(filename)\n",
    "    \n",
    "    agg_func = lambda s: ' '.join(s[\"word\"].values)\n",
    "    sentences = df.groupby(\"sentence_idx\").apply(agg_func)\n",
    "    agg_func = lambda s: ' '.join(s[\"tag\"].values)\n",
    "    labels = df.groupby(\"sentence_idx\").apply(agg_func)\n",
    "    \n",
    "    return pd.concat([sentences, labels], axis=1)"
   ]
  },
  {
   "cell_type": "code",
   "execution_count": 41,
   "metadata": {},
   "outputs": [
    {
     "data": {
      "text/html": [
       "<div>\n",
       "<style scoped>\n",
       "    .dataframe tbody tr th:only-of-type {\n",
       "        vertical-align: middle;\n",
       "    }\n",
       "\n",
       "    .dataframe tbody tr th {\n",
       "        vertical-align: top;\n",
       "    }\n",
       "\n",
       "    .dataframe thead th {\n",
       "        text-align: right;\n",
       "    }\n",
       "</style>\n",
       "<table border=\"1\" class=\"dataframe\">\n",
       "  <thead>\n",
       "    <tr style=\"text-align: right;\">\n",
       "      <th></th>\n",
       "      <th>0</th>\n",
       "      <th>1</th>\n",
       "    </tr>\n",
       "    <tr>\n",
       "      <th>sentence_idx</th>\n",
       "      <th></th>\n",
       "      <th></th>\n",
       "    </tr>\n",
       "  </thead>\n",
       "  <tbody>\n",
       "    <tr>\n",
       "      <th>0.0</th>\n",
       "      <td>EU rejects German call to boycott British lamb .</td>\n",
       "      <td>B-ORG O B-MISC O O O B-MISC O O</td>\n",
       "    </tr>\n",
       "    <tr>\n",
       "      <th>1.0</th>\n",
       "      <td>Peter Blackburn</td>\n",
       "      <td>B-PER I-PER</td>\n",
       "    </tr>\n",
       "    <tr>\n",
       "      <th>2.0</th>\n",
       "      <td>BRUSSELS 1996-08-22</td>\n",
       "      <td>B-LOC O</td>\n",
       "    </tr>\n",
       "    <tr>\n",
       "      <th>3.0</th>\n",
       "      <td>The European Commission said on Thursday it di...</td>\n",
       "      <td>O B-ORG I-ORG O O O O O O B-MISC O O O O O B-M...</td>\n",
       "    </tr>\n",
       "    <tr>\n",
       "      <th>4.0</th>\n",
       "      <td>Germany 's representative to the European Unio...</td>\n",
       "      <td>B-LOC O O O O B-ORG I-ORG O O O B-PER I-PER O ...</td>\n",
       "    </tr>\n",
       "    <tr>\n",
       "      <th>...</th>\n",
       "      <td>...</td>\n",
       "      <td>...</td>\n",
       "    </tr>\n",
       "    <tr>\n",
       "      <th>14035.0</th>\n",
       "      <td>Results of English league matches</td>\n",
       "      <td>O O B-MISC O O</td>\n",
       "    </tr>\n",
       "    <tr>\n",
       "      <th>14036.0</th>\n",
       "      <td>on Friday :</td>\n",
       "      <td>O O O</td>\n",
       "    </tr>\n",
       "    <tr>\n",
       "      <th>14037.0</th>\n",
       "      <td>Division two</td>\n",
       "      <td>O O</td>\n",
       "    </tr>\n",
       "    <tr>\n",
       "      <th>14038.0</th>\n",
       "      <td>Plymouth 2 Preston 1</td>\n",
       "      <td>B-ORG O B-ORG O</td>\n",
       "    </tr>\n",
       "    <tr>\n",
       "      <th>14039.0</th>\n",
       "      <td>Division three</td>\n",
       "      <td>O O</td>\n",
       "    </tr>\n",
       "  </tbody>\n",
       "</table>\n",
       "<p>14040 rows × 2 columns</p>\n",
       "</div>"
      ],
      "text/plain": [
       "                                                              0  \\\n",
       "sentence_idx                                                      \n",
       "0.0            EU rejects German call to boycott British lamb .   \n",
       "1.0                                             Peter Blackburn   \n",
       "2.0                                         BRUSSELS 1996-08-22   \n",
       "3.0           The European Commission said on Thursday it di...   \n",
       "4.0           Germany 's representative to the European Unio...   \n",
       "...                                                         ...   \n",
       "14035.0                       Results of English league matches   \n",
       "14036.0                                             on Friday :   \n",
       "14037.0                                            Division two   \n",
       "14038.0                                    Plymouth 2 Preston 1   \n",
       "14039.0                                          Division three   \n",
       "\n",
       "                                                              1  \n",
       "sentence_idx                                                     \n",
       "0.0                             B-ORG O B-MISC O O O B-MISC O O  \n",
       "1.0                                                 B-PER I-PER  \n",
       "2.0                                                     B-LOC O  \n",
       "3.0           O B-ORG I-ORG O O O O O O B-MISC O O O O O B-M...  \n",
       "4.0           B-LOC O O O O B-ORG I-ORG O O O B-PER I-PER O ...  \n",
       "...                                                         ...  \n",
       "14035.0                                          O O B-MISC O O  \n",
       "14036.0                                                   O O O  \n",
       "14037.0                                                     O O  \n",
       "14038.0                                         B-ORG O B-ORG O  \n",
       "14039.0                                                     O O  \n",
       "\n",
       "[14040 rows x 2 columns]"
      ]
     },
     "execution_count": 41,
     "metadata": {},
     "output_type": "execute_result"
    }
   ],
   "source": [
    "data = readdfsentences('NER_datasets/CONLL2003/train.txt')\n",
    "data"
   ]
  },
  {
   "cell_type": "code",
   "execution_count": null,
   "metadata": {},
   "outputs": [],
   "source": [
    "#         tokens      sentences\n",
    "#     -----------------------------------\n",
    "# dev:    51361       3250\n",
    "# test:   46434       3453\n",
    "# train:  203612      14035\n",
    "#     -----------------------------------\n",
    "# all:    301407      20738\n",
    "\n",
    "\n",
    "#         dev     test    train   all\n",
    "#     --------------------------------\n",
    "# PER:    1842    1617    6600    10059\n",
    "# LOC:    1837    1668    7140    10645\n",
    "# ORG:    1341    1661    6321    9323\n",
    "# MISC:   922     702     3438    5062\n",
    "#     --------------------------------\n",
    "# ALL:    5942    5648    23499   35089"
   ]
  },
  {
   "cell_type": "markdown",
   "metadata": {
    "heading_collapsed": true
   },
   "source": [
    "# Read Train, Valid, Test"
   ]
  },
  {
   "cell_type": "code",
   "execution_count": 1,
   "metadata": {
    "hidden": true
   },
   "outputs": [],
   "source": [
    "data = {\n",
    "    'test': 'NER_datasets/CONLL2003/test.txt',\n",
    "    'valid': 'NER_datasets/CONLL2003/valid.txt',\n",
    "    'train': 'NER_datasets/CONLL2003/train.txt'\n",
    "}"
   ]
  },
  {
   "cell_type": "code",
   "execution_count": null,
   "metadata": {
    "hidden": true
   },
   "outputs": [],
   "source": []
  },
  {
   "cell_type": "markdown",
   "metadata": {},
   "source": [
    "# Plots"
   ]
  },
  {
   "cell_type": "code",
   "execution_count": null,
   "metadata": {},
   "outputs": [],
   "source": []
  },
  {
   "cell_type": "code",
   "execution_count": null,
   "metadata": {},
   "outputs": [],
   "source": []
  },
  {
   "cell_type": "code",
   "execution_count": null,
   "metadata": {},
   "outputs": [],
   "source": []
  },
  {
   "cell_type": "code",
   "execution_count": null,
   "metadata": {},
   "outputs": [],
   "source": []
  }
 ],
 "metadata": {
  "kernelspec": {
   "display_name": "nlp",
   "language": "python",
   "name": "nlp"
  },
  "language_info": {
   "codemirror_mode": {
    "name": "ipython",
    "version": 3
   },
   "file_extension": ".py",
   "mimetype": "text/x-python",
   "name": "python",
   "nbconvert_exporter": "python",
   "pygments_lexer": "ipython3",
   "version": "3.7.5"
  }
 },
 "nbformat": 4,
 "nbformat_minor": 2
}
